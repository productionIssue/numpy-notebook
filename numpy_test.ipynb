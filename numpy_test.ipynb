{
 "cells": [
  {
   "cell_type": "code",
   "execution_count": 211,
   "metadata": {},
   "outputs": [],
   "source": [
    "#Importing numpy(np alias)\n",
    "import numpy as np"
   ]
  },
  {
   "cell_type": "code",
   "execution_count": 212,
   "metadata": {},
   "outputs": [
    {
     "name": "stdout",
     "output_type": "stream",
     "text": [
      "[4 6 8 2]\n",
      "[5 2 7 9 2]\n"
     ]
    }
   ],
   "source": [
    "#Basic 1D ndarray init\n",
    "oneDimArr = np.array([4,6,8,2])\n",
    "print(oneDimArr)\n",
    "\n",
    "#You can pass any iterable(list, tuple) to np.array() method and it will create a ndarray object\n",
    "oneDimArrSample = np.array((5,2,7,9,2))\n",
    "print(oneDimArrSample)"
   ]
  },
  {
   "cell_type": "code",
   "execution_count": 213,
   "metadata": {},
   "outputs": [
    {
     "name": "stdout",
     "output_type": "stream",
     "text": [
      "[[5.7 2.4 2.5]\n",
      " [8.3 4.6 1.2]]\n"
     ]
    }
   ],
   "source": [
    "#Basic 2D array init\n",
    "twoDimArr = np.array([[5.7,2.4,2.5],[8.3,4.6,1.2]])\n",
    "print(twoDimArr)"
   ]
  },
  {
   "cell_type": "code",
   "execution_count": 214,
   "metadata": {},
   "outputs": [
    {
     "name": "stdout",
     "output_type": "stream",
     "text": [
      "1\n",
      "1\n",
      "2\n"
     ]
    }
   ],
   "source": [
    "#Number of dimentions of ndarray\n",
    "print(oneDimArr.ndim)\n",
    "print(oneDimArrSample.ndim)\n",
    "print(twoDimArr.ndim)"
   ]
  },
  {
   "cell_type": "code",
   "execution_count": 215,
   "metadata": {},
   "outputs": [
    {
     "name": "stdout",
     "output_type": "stream",
     "text": [
      "[[[ 1  2]\n",
      "  [ 3  4]]\n",
      "\n",
      " [[ 5  6]\n",
      "  [ 7  8]]\n",
      "\n",
      " [[ 9 10]\n",
      "  [11 12]]]\n",
      "3\n",
      "(4,)\n",
      "(2, 3)\n",
      "(3, 2, 2)\n"
     ]
    }
   ],
   "source": [
    "#Shape gives number of rows, columns or depth of ndarray\n",
    "threeDimArr = np.array([[[1,2],[3,4]],[[5,6],[7,8]],[[9,10],[11,12]]])\n",
    "print(threeDimArr)\n",
    "print(threeDimArr.ndim)\n",
    "\n",
    "print(oneDimArr.shape)\n",
    "print(twoDimArr.shape)\n",
    "print(threeDimArr.shape)"
   ]
  },
  {
   "cell_type": "code",
   "execution_count": 216,
   "metadata": {},
   "outputs": [
    {
     "name": "stdout",
     "output_type": "stream",
     "text": [
      "int32\n",
      "float64\n",
      "int32\n"
     ]
    }
   ],
   "source": [
    "#Datatype of each element of ndarray\n",
    "print(oneDimArr.dtype)\n",
    "print(twoDimArr.dtype)\n",
    "print(threeDimArr.dtype)"
   ]
  },
  {
   "cell_type": "code",
   "execution_count": 217,
   "metadata": {},
   "outputs": [
    {
     "name": "stdout",
     "output_type": "stream",
     "text": [
      "4\n",
      "8\n",
      "4\n"
     ]
    }
   ],
   "source": [
    "#Size of each element of ndarray in bytes\n",
    "print(oneDimArr.itemsize)\n",
    "print(twoDimArr.itemsize)\n",
    "print(threeDimArr.itemsize)"
   ]
  },
  {
   "cell_type": "code",
   "execution_count": 218,
   "metadata": {},
   "outputs": [
    {
     "name": "stdout",
     "output_type": "stream",
     "text": [
      "4\n",
      "6\n",
      "12\n"
     ]
    }
   ],
   "source": [
    "#Number of elements of ndarray\n",
    "print(oneDimArr.size)\n",
    "print(twoDimArr.size)\n",
    "print(threeDimArr.size)"
   ]
  },
  {
   "cell_type": "code",
   "execution_count": 219,
   "metadata": {},
   "outputs": [
    {
     "name": "stdout",
     "output_type": "stream",
     "text": [
      "16\n",
      "48\n",
      "48\n",
      "16\n",
      "48\n",
      "48\n"
     ]
    }
   ],
   "source": [
    "#Total bytes consumed by ndarray\n",
    "print(oneDimArr.itemsize * oneDimArr.size)\n",
    "print(twoDimArr.itemsize * twoDimArr.size)\n",
    "print(threeDimArr.itemsize * threeDimArr.size)\n",
    "\n",
    "#Similar way to find total bytes consumes by ndarray\n",
    "print(oneDimArr.nbytes)\n",
    "print(twoDimArr.nbytes)\n",
    "print(threeDimArr.nbytes)"
   ]
  },
  {
   "cell_type": "code",
   "execution_count": 220,
   "metadata": {},
   "outputs": [
    {
     "name": "stdout",
     "output_type": "stream",
     "text": [
      "9\n",
      "12\n",
      "7\n"
     ]
    }
   ],
   "source": [
    "#ndarray indexing\n",
    "\n",
    "#Get a specific array element in 1D ndarray\n",
    "oneDimArrayIndexing = np.array([3,5,8,1,9,0])\n",
    "print(oneDimArrayIndexing[4])\n",
    "\n",
    "#Get a specific array element in 2D ndarray\n",
    "twoDimArrayIndexing = np.array([[5,2,8,14],[3,10,12,70]])\n",
    "print(twoDimArrayIndexing[1,2])\n",
    "\n",
    "#Get a specific array element in 3D ndarray\n",
    "threeDimArrayIndexing = np.array([[[1,2],[3,4]],[[5,6],[7,8]],[[9,10],[11,12]]])\n",
    "print(threeDimArrayIndexing[1,1,0])"
   ]
  },
  {
   "cell_type": "code",
   "execution_count": 221,
   "metadata": {},
   "outputs": [
    {
     "name": "stdout",
     "output_type": "stream",
     "text": [
      "0\n",
      "9\n",
      "1\n",
      "8\n",
      "5\n",
      "3\n",
      "5\n",
      "10\n",
      "7\n",
      "2\n"
     ]
    }
   ],
   "source": [
    "#ndarray negative indexing\n",
    "\n",
    "# 1D ndarray negative indexing\n",
    "# [3, 5, 8, 1, 9, 0]\n",
    "#  0  1  2  3  4  5\n",
    "# -6 -5 -4 -3 -2 -1\n",
    "print(oneDimArrayIndexing[-1])\n",
    "print(oneDimArrayIndexing[-2])\n",
    "print(oneDimArrayIndexing[-3])\n",
    "print(oneDimArrayIndexing[-4])\n",
    "print(oneDimArrayIndexing[-5])\n",
    "print(oneDimArrayIndexing[-6])\n",
    "\n",
    "#Similarly we can negative index 2D ndarray\n",
    "print(twoDimArrayIndexing[-2,-4])\n",
    "print(twoDimArrayIndexing[-1,-3])\n",
    "\n",
    "#Similarly we can negative index 3D ndarray\n",
    "print(threeDimArrayIndexing[-2,-1,-2])\n",
    "print(threeDimArrayIndexing[-3,-2,-1])"
   ]
  },
  {
   "cell_type": "code",
   "execution_count": 222,
   "metadata": {},
   "outputs": [
    {
     "name": "stdout",
     "output_type": "stream",
     "text": [
      "[5 8 1]\n",
      "[10 12 70]\n",
      "[5 2 8]\n"
     ]
    }
   ],
   "source": [
    "#Indexing in a range, [r:c) where r is included and c is excluded.\n",
    "print(oneDimArrayIndexing[1:4])\n",
    "print(twoDimArrayIndexing[-1, 1:])\n",
    "print(twoDimArrayIndexing[-2, :3])"
   ]
  },
  {
   "cell_type": "code",
   "execution_count": 223,
   "metadata": {},
   "outputs": [
    {
     "name": "stdout",
     "output_type": "stream",
     "text": [
      "[  8  35 224  24  52]\n",
      "[ 8 73 24 97 89]\n",
      "[  8 224  52  89]\n"
     ]
    }
   ],
   "source": [
    "#Indexing in a range with step\n",
    "sampleIterating1DArray = np.array([4,7,8,11,35,73,224,67,24,688,52,97,56,571,89,23,84,274])\n",
    "print(sampleIterating1DArray[2:11:2])\n",
    "print(sampleIterating1DArray[2:15:3])\n",
    "print(sampleIterating1DArray[2:-1:4])"
   ]
  },
  {
   "cell_type": "code",
   "execution_count": 224,
   "metadata": {},
   "outputs": [
    {
     "name": "stdout",
     "output_type": "stream",
     "text": [
      "[  4   7 100  11  35  73 224  67  24 688  52  97  56 571  89  23  84 274]\n",
      "[  4   7 100  11  35  -5  -5  -5  24 688  52  97  56 571  89  23  84 274]\n",
      "[[  5   2   8  14]\n",
      " [  3  10 101  70]]\n",
      "[[  5  99   8  14]\n",
      " [  3 102 101  70]]\n"
     ]
    }
   ],
   "source": [
    "#Changing value of element of 1D array using indexing\n",
    "sampleIterating1DArray[2]=100\n",
    "print(sampleIterating1DArray)\n",
    "\n",
    "sampleIterating1DArray[5:8] = -5\n",
    "print(sampleIterating1DArray)\n",
    "\n",
    "twoDimArrayIndexing[1,2] = 101\n",
    "print(twoDimArrayIndexing)\n",
    "\n",
    "twoDimArrayIndexing[:,1] = [99,102]\n",
    "print(twoDimArrayIndexing)"
   ]
  },
  {
   "cell_type": "code",
   "execution_count": 225,
   "metadata": {},
   "outputs": [
    {
     "name": "stdout",
     "output_type": "stream",
     "text": [
      "[[0 0 0 0 0 0]\n",
      " [0 0 0 0 0 0]\n",
      " [0 0 0 0 0 0]\n",
      " [0 0 0 0 0 0]]\n",
      "[[1 1 1]\n",
      " [1 1 1]\n",
      " [1 1 1]\n",
      " [1 1 1]\n",
      " [1 1 1]\n",
      " [1 1 1]]\n",
      "[[[74.28 74.28 74.28 74.28 74.28 74.28]\n",
      "  [74.28 74.28 74.28 74.28 74.28 74.28]\n",
      "  [74.28 74.28 74.28 74.28 74.28 74.28]]\n",
      "\n",
      " [[74.28 74.28 74.28 74.28 74.28 74.28]\n",
      "  [74.28 74.28 74.28 74.28 74.28 74.28]\n",
      "  [74.28 74.28 74.28 74.28 74.28 74.28]]]\n"
     ]
    }
   ],
   "source": [
    "#Initializing different types of ndarray\n",
    "allZeroArray = np.zeros(shape=(4,6), dtype='int8')\n",
    "print(allZeroArray)\n",
    "\n",
    "allOneArray = np.ones(shape=(6,3), dtype='int8')\n",
    "print(allOneArray)\n",
    "\n",
    "#Array filled for a specific number\n",
    "allFilledArray = np.full((2,3,6), 74.28, dtype='float64')\n",
    "print(allFilledArray)"
   ]
  },
  {
   "cell_type": "code",
   "execution_count": 226,
   "metadata": {},
   "outputs": [
    {
     "name": "stdout",
     "output_type": "stream",
     "text": [
      "[[7 7 7]\n",
      " [7 7 7]\n",
      " [7 7 7]\n",
      " [7 7 7]\n",
      " [7 7 7]\n",
      " [7 7 7]]\n",
      "[[4 4 4 4 4 4]\n",
      " [4 4 4 4 4 4]\n",
      " [4 4 4 4 4 4]\n",
      " [4 4 4 4 4 4]]\n"
     ]
    }
   ],
   "source": [
    "#Same as np.like() we can create same value filled ndarray using np.full_like() in which we pass ndarray and the value to be filled so that the same shapped ndarray can be created using the value passed\n",
    "allOneAlikeShappedArray = np.full_like(allOneArray, 7)\n",
    "print(allOneAlikeShappedArray)\n",
    "\n",
    "allZeroAlikeShappedArray = np.full_like(allZeroArray, 4)\n",
    "print(allZeroAlikeShappedArray)"
   ]
  },
  {
   "cell_type": "code",
   "execution_count": 227,
   "metadata": {},
   "outputs": [
    {
     "name": "stdout",
     "output_type": "stream",
     "text": [
      "[[[0.67196073 0.72512795 0.39835487 0.5341577  0.55278503 0.55409097\n",
      "   0.21273318 0.76445503 0.64069932]\n",
      "  [0.64200939 0.62142627 0.62452127 0.98620796 0.94946146 0.2871165\n",
      "   0.38363566 0.27520282 0.04430918]\n",
      "  [0.17136991 0.22244748 0.43423159 0.06082455 0.49309566 0.93620401\n",
      "   0.64384115 0.82204214 0.37235585]\n",
      "  [0.94322985 0.04853991 0.67911752 0.61959227 0.20889994 0.78336413\n",
      "   0.77308907 0.92149654 0.96094775]\n",
      "  [0.03795385 0.33916335 0.38616056 0.99888718 0.5914371  0.94320093\n",
      "   0.59693733 0.43571493 0.80746126]]\n",
      "\n",
      " [[0.74266968 0.7182938  0.96463371 0.60427233 0.92793262 0.96452802\n",
      "   0.71184975 0.34022305 0.22729015]\n",
      "  [0.08988785 0.52497973 0.56175735 0.06083167 0.13016051 0.79350317\n",
      "   0.90259688 0.01226193 0.8023194 ]\n",
      "  [0.38500039 0.56948746 0.43934186 0.49583693 0.91403779 0.73178763\n",
      "   0.67405771 0.21428776 0.76330588]\n",
      "  [0.63318782 0.21985633 0.5931548  0.47547273 0.61184069 0.05076688\n",
      "   0.77845027 0.29079028 0.16735428]\n",
      "  [0.56748759 0.0040977  0.96440319 0.55134469 0.20650208 0.07245023\n",
      "   0.52662232 0.07654963 0.69607897]]]\n"
     ]
    }
   ],
   "source": [
    "#Creating ndarray from random numbers\n",
    "randomElementArray = np.random.rand(2,5,9)\n",
    "print(randomElementArray)"
   ]
  },
  {
   "cell_type": "code",
   "execution_count": 228,
   "metadata": {},
   "outputs": [
    {
     "name": "stdout",
     "output_type": "stream",
     "text": [
      "[[[0.41066865 0.34210619]\n",
      "  [0.44617289 0.59556005]]\n",
      "\n",
      " [[0.80307066 0.51353093]\n",
      "  [0.02106015 0.51378416]]\n",
      "\n",
      " [[0.32209385 0.35218306]\n",
      "  [0.88696432 0.28590664]]]\n"
     ]
    }
   ],
   "source": [
    "#Creating random ndarray from shape of another ndarray\n",
    "randomElementArrayFromShape = np.random.random_sample(threeDimArrayIndexing.shape)\n",
    "print(randomElementArrayFromShape)"
   ]
  },
  {
   "cell_type": "code",
   "execution_count": 229,
   "metadata": {},
   "outputs": [
    {
     "name": "stdout",
     "output_type": "stream",
     "text": [
      "[[5 2 3 6 0 0]\n",
      " [2 4 4 7 6 6]\n",
      " [0 4 0 3 6 6]\n",
      " [5 0 6 5 2 1]\n",
      " [6 1 4 7 3 0]]\n",
      "[[4 7 4 7 4 7]\n",
      " [6 5 7 4 5 7]\n",
      " [7 6 4 6 6 5]\n",
      " [5 4 7 6 4 4]\n",
      " [6 5 6 7 5 6]]\n"
     ]
    }
   ],
   "source": [
    "#Creating random integer ndarray, np.random.randint(endRange, size), endRange is excluded\n",
    "randomIntegerArray = np.random.randint(8, size=(5,6))\n",
    "print(randomIntegerArray)\n",
    "\n",
    "#Creating random integer ndarray, np.random.randint(startRange, endRange, size), startRange is excluded, endRange is excluded\n",
    "randomIntegerArray = np.random.randint(4 ,8, size=(5,6))\n",
    "print(randomIntegerArray)"
   ]
  },
  {
   "cell_type": "code",
   "execution_count": 230,
   "metadata": {},
   "outputs": [
    {
     "name": "stdout",
     "output_type": "stream",
     "text": [
      "[[1 0 0 0]\n",
      " [0 1 0 0]\n",
      " [0 0 1 0]\n",
      " [0 0 0 1]]\n"
     ]
    }
   ],
   "source": [
    "#Creating identity ndarray matrix\n",
    "identityNpArray = np.identity(4, dtype='int8')\n",
    "print(identityNpArray)"
   ]
  },
  {
   "cell_type": "code",
   "execution_count": 231,
   "metadata": {},
   "outputs": [
    {
     "name": "stdout",
     "output_type": "stream",
     "text": [
      "[[1 5 6 7]\n",
      " [1 5 6 7]\n",
      " [1 5 6 7]\n",
      " [1 5 6 7]]\n",
      "[[1 1 1 1 5 5 5 5 6 6 6 6 7 7 7 7]]\n"
     ]
    }
   ],
   "source": [
    "#Repeating ndarray on axis=0\n",
    "sampleNdArray = np.array([[1,5,6,7]])\n",
    "repeatedSampleArrayAxisZero = np.repeat(sampleNdArray, 4, axis=0)\n",
    "print(repeatedSampleArrayAxisZero)\n",
    "\n",
    "#Repeating ndarray on axis=1\n",
    "sampleNdArray1 = np.array([[1,5,6,7]])\n",
    "repeatedSampleArrayAxisOne = np.repeat(sampleNdArray1, 4, axis=1)\n",
    "print(repeatedSampleArrayAxisOne)"
   ]
  },
  {
   "cell_type": "code",
   "execution_count": 232,
   "metadata": {},
   "outputs": [
    {
     "name": "stdout",
     "output_type": "stream",
     "text": [
      "[[1 1 1 1 1]\n",
      " [1 0 0 0 1]\n",
      " [1 0 9 0 1]\n",
      " [1 0 0 0 1]\n",
      " [1 1 1 1 1]]\n"
     ]
    }
   ],
   "source": [
    "#Exercise:\n",
    "#Create 2d np array using predefined functions discussed ago.\n",
    "# 1 1 1 1 1\n",
    "# 1 0 0 0 1\n",
    "# 1 0 9 0 1\n",
    "# 1 0 0 0 1\n",
    "# 1 1 1 1 1\n",
    "\n",
    "oneFilledArray = np.ones((5,5), dtype='int8')\n",
    "zerofilledArray = np.zeros((3,3), dtype='int8')\n",
    "zerofilledArray[1,1] = 9\n",
    "oneFilledArray[1:-1, 1:-1] = zerofilledArray.copy()\n",
    "print(oneFilledArray)"
   ]
  },
  {
   "cell_type": "code",
   "execution_count": 233,
   "metadata": {},
   "outputs": [
    {
     "name": "stdout",
     "output_type": "stream",
     "text": [
      "[  4   6   8 100  11]\n",
      "[  4   6   8 100  11]\n"
     ]
    }
   ],
   "source": [
    "# Copy and view\n",
    "# View is reference of a ndarray, if you change via one reference then other reference data will be changed\n",
    "mainRefArray = np.array([4,6,8,9,11])\n",
    "otherRefArray = mainRefArray\n",
    "# If you change data via otherRefArray then mainRefArray data will also be changed.\n",
    "otherRefArray[3] = 100\n",
    "print(mainRefArray)\n",
    "print(otherRefArray)"
   ]
  },
  {
   "cell_type": "code",
   "execution_count": 234,
   "metadata": {},
   "outputs": [
    {
     "name": "stdout",
     "output_type": "stream",
     "text": [
      "[  4   6   8 100  11]\n",
      "[  4   6   8 100  11]\n",
      "[  4   6   8 250  11]\n"
     ]
    }
   ],
   "source": [
    "# Copy is when you allocate different memory location and copy the content of one array to other array so that the references will be deferent\n",
    "otherCopyArray = mainRefArray.copy()\n",
    "otherCopyArray[3] =250\n",
    "print(mainRefArray)\n",
    "print(otherRefArray)\n",
    "print(otherCopyArray)"
   ]
  },
  {
   "cell_type": "code",
   "execution_count": 235,
   "metadata": {},
   "outputs": [
    {
     "name": "stdout",
     "output_type": "stream",
     "text": [
      "[ 7 11 12  5  4 13 15]\n",
      "[ 0  4  5 -2 -3  6  8]\n",
      "[12 24 27  6  3 30 36]\n",
      "[1.   2.   2.25 0.5  0.25 2.5  3.  ]\n"
     ]
    }
   ],
   "source": [
    "# Mathematics using numpy\n",
    "mathNdArray = np.array([4,8,9,2,1,10,12])\n",
    "\n",
    "# Add constant with each element of ndarray\n",
    "print(mathNdArray + 3)\n",
    "\n",
    "# remove constant from each element of ndarray\n",
    "print(mathNdArray - 4)\n",
    "\n",
    "# multiply constant from each element of ndarray\n",
    "print(mathNdArray * 3)\n",
    "\n",
    "# divide constant from each element of ndarray\n",
    "print(mathNdArray / 4)"
   ]
  },
  {
   "cell_type": "code",
   "execution_count": 236,
   "metadata": {},
   "outputs": [
    {
     "name": "stdout",
     "output_type": "stream",
     "text": [
      "[ 8 14 21]\n",
      "[4 4 5]\n",
      "[ 12  45 104]\n",
      "[0.33333333 0.55555556 0.61538462]\n"
     ]
    }
   ],
   "source": [
    "#Mathematics of each element of ndarray with another ndarray\n",
    "mathAddArrayOne = np.array([2,5,8])\n",
    "mathAddArrayTwo = np.array([6,9,13])\n",
    "\n",
    "print(mathAddArrayOne + mathAddArrayTwo)\n",
    "print(mathAddArrayTwo - mathAddArrayOne)\n",
    "print(mathAddArrayOne * mathAddArrayTwo)\n",
    "print(mathAddArrayOne / mathAddArrayTwo)"
   ]
  },
  {
   "cell_type": "code",
   "execution_count": 237,
   "metadata": {},
   "outputs": [
    {
     "name": "stdout",
     "output_type": "stream",
     "text": [
      "[ 16  64  81   4   1 100 144]\n"
     ]
    }
   ],
   "source": [
    "#Power of each elements of ndarray\n",
    "powerArray = mathNdArray ** 2\n",
    "print(powerArray)"
   ]
  },
  {
   "cell_type": "code",
   "execution_count": 238,
   "metadata": {},
   "outputs": [
    {
     "name": "stdout",
     "output_type": "stream",
     "text": [
      "[ 0.65028784 -0.98803162 -0.30481062  0.89399666  0.58061118 -0.71487643\n",
      " -0.80115264  0.46771852  0.94544515 -0.17604595 -0.99975584  0.95891572]\n",
      "[-0.75968791  0.15425145 -0.95241298 -0.44807362  0.81418097  0.69925081\n",
      " -0.59846007 -0.88387747  0.32578131  0.98438195 -0.02209662 -0.28369109]\n",
      "[-0.8559934  -6.4053312   0.32004039 -1.99520041  0.71312301 -1.02234624\n",
      "  1.33869021 -0.52916669  2.90208535 -0.17883906 45.24474207 -3.38014041]\n"
     ]
    }
   ],
   "source": [
    "#Trigonometry with ndarray\n",
    "trigNdArray = np.array([15,30,60,90,120,150,180,210,240,270,300,360])\n",
    "print(np.sin(trigNdArray))\n",
    "print(np.cos(trigNdArray))\n",
    "print(np.tan(trigNdArray))"
   ]
  },
  {
   "cell_type": "code",
   "execution_count": 239,
   "metadata": {},
   "outputs": [
    {
     "name": "stdout",
     "output_type": "stream",
     "text": [
      "[[ 14  11  14  29]\n",
      " [ 34  29  36  67]\n",
      " [ 54  47  58 105]]\n",
      "Dimension: (3, 4)\n"
     ]
    }
   ],
   "source": [
    "# Matrix multiplication using numpy\n",
    "# If we are multiplying two matrices of (r1 * c1) and (r2 * c2) dimensions then for valid multiplication c1=r2 condition must be valid. Dimension of final matrix will be (r1,c2)\n",
    "multMatOne = np.array([[1,2],[3,4],[5,6]]) # dimension -> (3,2)\n",
    "multMatTwo = np.array([[6,7,8,9],[4,2,3,10]]) # dimension -> (2,4)\n",
    "multMatResult = np.matmul(multMatOne, multMatTwo) # Final dimension -> (3,4)\n",
    "print(multMatResult)\n",
    "print(\"Dimension:\" , multMatResult.shape)"
   ]
  },
  {
   "cell_type": "code",
   "execution_count": 240,
   "metadata": {},
   "outputs": [
    {
     "name": "stdout",
     "output_type": "stream",
     "text": [
      "-177.99999999999997\n"
     ]
    }
   ],
   "source": [
    "# Determinant of matrix using numpy\n",
    "detMat = [[3,6,8],[2,9,1],[7,8,12]]\n",
    "print(np.linalg.det(detMat))"
   ]
  },
  {
   "cell_type": "code",
   "execution_count": 241,
   "metadata": {},
   "outputs": [
    {
     "name": "stdout",
     "output_type": "stream",
     "text": [
      "[11  6 10 11]\n",
      "[10 11 11]\n",
      "[ 5  1  3 10]\n",
      "[5 1 5]\n",
      "[ 7.33333333  4.          7.         10.33333333]\n",
      "[7.25 6.25 8.  ]\n",
      "[22 12 21 31]\n",
      "[29 25 32]\n"
     ]
    }
   ],
   "source": [
    "# Numpy stat\n",
    "matStat = np.array([[5,6,8,10],[11,1,3,10],[6,5,10,11]])\n",
    "print(np.max(matStat, axis=0))\n",
    "print(np.max(matStat, axis=1))\n",
    "print(np.min(matStat, axis=0))\n",
    "print(np.min(matStat, axis=1))\n",
    "print(np.average(matStat, axis=0))\n",
    "print(np.average(matStat, axis=1))\n",
    "print(np.sum(matStat, axis=0))\n",
    "print(np.sum(matStat, axis=1))"
   ]
  },
  {
   "cell_type": "code",
   "execution_count": 242,
   "metadata": {},
   "outputs": [
    {
     "name": "stdout",
     "output_type": "stream",
     "text": [
      "[[ 5  6  8 10 11  1  3 10]\n",
      " [ 6  5 10 11 93 12 45 32]]\n",
      "[[ 5  6]\n",
      " [ 8 10]\n",
      " [11  1]\n",
      " [ 3 10]\n",
      " [ 6  5]\n",
      " [10 11]\n",
      " [93 12]\n",
      " [45 32]]\n",
      "[[[ 5  6]\n",
      "  [ 8 10]\n",
      "  [11  1]\n",
      "  [ 3 10]]\n",
      "\n",
      " [[ 6  5]\n",
      "  [10 11]\n",
      "  [93 12]\n",
      "  [45 32]]]\n",
      "[[[[ 5  6]\n",
      "   [ 8 10]]\n",
      "\n",
      "  [[11  1]\n",
      "   [ 3 10]]]\n",
      "\n",
      "\n",
      " [[[ 6  5]\n",
      "   [10 11]]\n",
      "\n",
      "  [[93 12]\n",
      "   [45 32]]]]\n"
     ]
    }
   ],
   "source": [
    "# Reorganizing ndarray\n",
    "# Note: multiplication of individual dimentions must be equal to number of elements in original ndarray\n",
    "matStat = np.array([[5,6,8,10],[11,1,3,10],[6,5,10,11],[93,12,45,32]])\n",
    "print(matStat.reshape(2,8))\n",
    "print(matStat.reshape(8,2))\n",
    "print(matStat.reshape(2,4,2))\n",
    "print(matStat.reshape(2,2,2,2))"
   ]
  },
  {
   "cell_type": "code",
   "execution_count": 243,
   "metadata": {},
   "outputs": [
    {
     "name": "stdout",
     "output_type": "stream",
     "text": [
      "[[ 2  5  8  9]\n",
      " [ 9  5  6  1]\n",
      " [ 9 10 45 12]]\n"
     ]
    }
   ],
   "source": [
    "# Vertically stacking ndarrays\n",
    "vertStackArrOne = np.array([2,5,8,9])\n",
    "vertStackArrTwo = np.array([9,5,6,1])\n",
    "vertStackArrThree = np.array([9,10,45,12])\n",
    "#You can stack any number of ndarrays\n",
    "stackedArray = np.vstack([vertStackArrOne, vertStackArrTwo, vertStackArrThree])\n",
    "print(stackedArray)"
   ]
  },
  {
   "cell_type": "code",
   "execution_count": 244,
   "metadata": {},
   "outputs": [
    {
     "name": "stdout",
     "output_type": "stream",
     "text": [
      "[ 2  5  8  9  9  5  6  1  9 10 45 12]\n"
     ]
    }
   ],
   "source": [
    "# Horizontally stacking ndarrays\n",
    "horzStackArrOne = np.array([2,5,8,9])\n",
    "horzStackArrTwo = np.array([9,5,6,1])\n",
    "horzStackArrThree = np.array([9,10,45,12])\n",
    "stackedArraySample = np.hstack([vertStackArrOne, vertStackArrTwo, vertStackArrThree])\n",
    "print(stackedArraySample)"
   ]
  },
  {
   "cell_type": "code",
   "execution_count": 245,
   "metadata": {},
   "outputs": [
    {
     "name": "stdout",
     "output_type": "stream",
     "text": [
      "[[ 1  2  3  4  5  6  7]\n",
      " [ 8  9 10 11 12 13 14]\n",
      " [15 16 17 18 19 20 21]]\n"
     ]
    }
   ],
   "source": [
    "#Reading data from txt file\n",
    "fileData = np.genfromtxt('input.txt', delimiter=',')\n",
    "fileData = fileData.astype('int8')\n",
    "print(fileData)"
   ]
  },
  {
   "cell_type": "code",
   "execution_count": 246,
   "metadata": {},
   "outputs": [
    {
     "name": "stdout",
     "output_type": "stream",
     "text": [
      "[[ True  True False False  True]\n",
      " [ True  True False False  True]\n",
      " [ True  True False False False]]\n",
      "[[False False  True  True False]\n",
      " [False False  True  True False]\n",
      " [False False  True  True  True]]\n",
      "[6 8 5 8 9 5 7 6]\n"
     ]
    }
   ],
   "source": [
    "#Boolean masking\n",
    "sampleMasking = np.array([[6,8,3,4,5],[8,9,1,3,5],[7,6,1,2,3]])\n",
    "print(sampleMasking >= 5)\n",
    "# ~ is not operator\n",
    "print(~(sampleMasking >= 5))\n",
    "\n",
    "#We can use boolean masking as index for the ndarray, for those elements for which true are generating will be printed.\n",
    "print(sampleMasking[sampleMasking>=5])"
   ]
  },
  {
   "cell_type": "code",
   "execution_count": 247,
   "metadata": {},
   "outputs": [
    {
     "name": "stdout",
     "output_type": "stream",
     "text": [
      "[ 90 210 270 300]\n"
     ]
    }
   ],
   "source": [
    "# ndarray can be indexed using ndarray\n",
    "SampleNdArrayForIndexing = np.array([15,30,60,90,120,150,180,210,240,270,300,360])\n",
    "indexingArray = np.array([3,7,9,10])\n",
    "print(SampleNdArrayForIndexing[indexingArray])"
   ]
  },
  {
   "cell_type": "code",
   "execution_count": 248,
   "metadata": {},
   "outputs": [
    {
     "name": "stdout",
     "output_type": "stream",
     "text": [
      "[ True  True False False  True]\n",
      "[ True  True  True]\n",
      "[ True  True False False False]\n",
      "[False False False]\n"
     ]
    }
   ],
   "source": [
    "#Any vs All\n",
    "#If any element out of all elements is following given condition then true will be generated\n",
    "print(np.any(sampleMasking >=5, axis=0))\n",
    "print(np.any(sampleMasking >=5, axis=1))\n",
    "\n",
    "#If all elements out of all elements is following given condition then true will be generated\n",
    "print(np.all(sampleMasking >=5, axis=0))\n",
    "print(np.all(sampleMasking >=5, axis=1))"
   ]
  },
  {
   "cell_type": "code",
   "execution_count": 258,
   "metadata": {},
   "outputs": [
    {
     "name": "stdout",
     "output_type": "stream",
     "text": [
      "[[11 12]\n",
      " [16 17]]\n",
      "[ 2  8 14 20]\n",
      "[4 5]\n",
      "[[24 25]\n",
      " [29 30]]\n"
     ]
    }
   ],
   "source": [
    "sampleExerciseArrayIndexing = np.array([[1,2,3,4,5],[6,7,8,9,10],[11,12,13,14,15],[16,17,18,19,20],[21,22,23,24,25],[26,27,28,29,30]])\n",
    "print(sampleExerciseArrayIndexing[2:4,0:2])\n",
    "print(sampleExerciseArrayIndexing[[0,1,2,3],[1,2,3,4]])\n",
    "print(sampleExerciseArrayIndexing[0,-2:])\n",
    "print(sampleExerciseArrayIndexing[-2:,-2:])"
   ]
  }
 ],
 "metadata": {
  "kernelspec": {
   "display_name": "Python 3",
   "language": "python",
   "name": "python3"
  },
  "language_info": {
   "codemirror_mode": {
    "name": "ipython",
    "version": 3
   },
   "file_extension": ".py",
   "mimetype": "text/x-python",
   "name": "python",
   "nbconvert_exporter": "python",
   "pygments_lexer": "ipython3",
   "version": "3.12.2"
  }
 },
 "nbformat": 4,
 "nbformat_minor": 2
}
